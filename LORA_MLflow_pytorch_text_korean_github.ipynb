{
  "cells": [
    {
      "cell_type": "code",
      "execution_count": null,
      "metadata": {
        "colab": {
          "base_uri": "https://localhost:8080/"
        },
        "id": "s26WBSHeq7TI",
        "outputId": "622dfa00-4c82-4cce-8155-662773b8aa60"
      },
      "outputs": [
        {
          "name": "stderr",
          "output_type": "stream",
          "text": [
            "/usr/local/lib/python3.12/dist-packages/huggingface_hub/utils/_auth.py:94: UserWarning: \n",
            "The secret `HF_TOKEN` does not exist in your Colab secrets.\n",
            "To authenticate with the Hugging Face Hub, create a token in your settings tab (https://huggingface.co/settings/tokens), set it as secret in your Google Colab and restart your session.\n",
            "You will be able to reuse this secret in all of your notebooks.\n",
            "Please note that authentication is recommended but still optional to access public models or datasets.\n",
            "  warnings.warn(\n"
          ]
        }
      ],
      "source": [
        "# Note: I ran this code in google colab.\n",
        "# Step1: load dataset (Use !pip install datasets)\n",
        "from datasets import load_dataset\n",
        "\n",
        "\n",
        "# NSMC (Korean) — load the pre-converted Parquet revision\n",
        "nsmc = load_dataset(\"e9t/nsmc\", revision=\"refs/convert/parquet\")\n",
        "\n"
      ]
    },
    {
      "cell_type": "code",
      "execution_count": null,
      "metadata": {
        "colab": {
          "base_uri": "https://localhost:8080/"
        },
        "id": "njBFDVQPOoZc",
        "outputId": "47a7d5b8-611f-48db-c381-1896f8cbf6c0"
      },
      "outputs": [
        {
          "name": "stdout",
          "output_type": "stream",
          "text": [
            "DatasetDict({\n",
            "    train: Dataset({\n",
            "        features: ['id', 'document', 'label'],\n",
            "        num_rows: 150000\n",
            "    })\n",
            "    test: Dataset({\n",
            "        features: ['id', 'document', 'label'],\n",
            "        num_rows: 50000\n",
            "    })\n",
            "}) \n",
            "\n",
            "{'id': '9976970', 'document': '아 더빙.. 진짜 짜증나네요 목소리', 'label': 0} \n",
            "\n",
            "{'id': Value('string'), 'document': Value('string'), 'label': ClassLabel(names=['negative', 'positive'])} \n",
            "\n"
          ]
        }
      ],
      "source": [
        "# to check the features of data:\n",
        "print(nsmc, \"\\n\")\n",
        "\n",
        "\n",
        "print(nsmc[\"train\"][0], \"\\n\")\n",
        "\n",
        "\n",
        "print(nsmc[\"train\"].features, \"\\n\")\n"
      ]
    },
    {
      "cell_type": "code",
      "execution_count": null,
      "metadata": {
        "id": "jnvNYr7dz1p6"
      },
      "outputs": [],
      "source": [
        "# We should create the validation data and in dictionary format since the .map() function requires it.\n",
        "from datasets import DatasetDict\n",
        "split = nsmc[\"train\"].train_test_split(test_size=0.1, seed=42)\n",
        "nsmc = DatasetDict({\n",
        "    \"train\": split[\"train\"],\n",
        "    \"validation\": split[\"test\"],\n",
        "    \"test\": nsmc[\"test\"],\n",
        "})"
      ]
    },
    {
      "cell_type": "code",
      "execution_count": null,
      "metadata": {
        "colab": {
          "base_uri": "https://localhost:8080/"
        },
        "id": "ixeBIHpYz3xS",
        "outputId": "190320dd-04b5-4693-8a41-b851bcc971f3"
      },
      "outputs": [
        {
          "data": {
            "text/plain": [
              "DatasetDict({\n",
              "    train: Dataset({\n",
              "        features: ['id', 'document', 'label'],\n",
              "        num_rows: 135000\n",
              "    })\n",
              "    validation: Dataset({\n",
              "        features: ['id', 'document', 'label'],\n",
              "        num_rows: 15000\n",
              "    })\n",
              "    test: Dataset({\n",
              "        features: ['id', 'document', 'label'],\n",
              "        num_rows: 50000\n",
              "    })\n",
              "})"
            ]
          },
          "execution_count": 4,
          "metadata": {},
          "output_type": "execute_result"
        }
      ],
      "source": [
        "nsmc"
      ]
    },
    {
      "cell_type": "code",
      "execution_count": null,
      "metadata": {
        "id": "BmzO4ZkVPSA8"
      },
      "outputs": [],
      "source": [
        "# Step2: load a pre-trained tokenizer\n",
        "from transformers import AutoTokenizer\n",
        "checkpoint = \"klue/roberta-base\"\n",
        "Tokenizer = AutoTokenizer.from_pretrained(checkpoint)"
      ]
    },
    {
      "cell_type": "code",
      "execution_count": null,
      "metadata": {
        "colab": {
          "base_uri": "https://localhost:8080/"
        },
        "id": "sO-YlnFDUm0h",
        "outputId": "0f0803ab-dcbb-463e-8c5b-3b54c9980ec0"
      },
      "outputs": [
        {
          "name": "stdout",
          "output_type": "stream",
          "text": [
            "{'input_ids': [0, 19875, 2073, 5861, 2145, 3738, 2079, 5103, 2470, 10628, 1485, 2170, 10092, 2062, 18, 3673, 831, 13439, 16773, 2154, 2079, 11878, 2044, 65, 65, 2], 'token_type_ids': [0, 0, 0, 0, 0, 0, 0, 0, 0, 0, 0, 0, 0, 0, 0, 0, 0, 0, 0, 0, 0, 0, 0, 0, 0, 0], 'attention_mask': [1, 1, 1, 1, 1, 1, 1, 1, 1, 1, 1, 1, 1, 1, 1, 1, 1, 1, 1, 1, 1, 1, 1, 1, 1, 1]}\n"
          ]
        }
      ],
      "source": [
        "print(Tokenizer(nsmc['train'][0]['document']))"
      ]
    },
    {
      "cell_type": "code",
      "execution_count": null,
      "metadata": {
        "colab": {
          "base_uri": "https://localhost:8080/",
          "height": 113,
          "referenced_widgets": [
            "a4091b5354de46738f0a53cbd62f5d1b",
            "d8de8e7cca934fdea076bc616e301689",
            "0458ed91a97746bfaabfdfa6beeed0db",
            "4dd24ff39ac044dca859d489569c6537",
            "abc0da64074540009ff5541a46431c45",
            "864fcf75b59448fe919c3dd86ec9dc5f",
            "f0f40078691f4503bc1f4416b12c5451",
            "1e34205dbd77454fadb5e19058e7e6d9",
            "c70ad51d794e45528b40dbf7c4c77476",
            "4228af4814f24f3f89556b7ce3e0e353",
            "32c37fc0cc61428f9a3b900e018c3178",
            "76bcb793dd024d019c2daa42cb00dc98",
            "79d1fa87e46d44e99ec9858f58aec7fb",
            "e768b6c0b4644b4396ec93f91614d181",
            "5ec8ba4e97e54b90969938d103fe130f",
            "b825103d57c5427abc06daa8a41bab1b",
            "7f82b9f2d5af462dbe2af1ff0c269083",
            "35c3090a4612446fb16249bff77867e8",
            "9154410aba0d46e2b99bc6242ab0771a",
            "2166df686de747c7a03d3c6dbd528ed0",
            "dbaca4b2688940718a7cc124af334412",
            "0f031e7fef1144b7b0c4c03a667b8088",
            "acf84fa8ebe44e72ac71ea4fdc1c269e",
            "64753de3a4a444b5809c02006d07ab57",
            "bf541b76f46c46e482d612eadee1e817",
            "ca2bac0d108444e999d3fd902a679fdc",
            "2ed60936eb644800a32b9e346a2f62f1",
            "2b4fd190e5cd441da2ab019313d90dd1",
            "2808139eef114b1d97427b9c31d8d67f",
            "edd6da2947da4e88aad2fd1b32be7d7a",
            "9668b65f34e74a6f87665f76d4382fda",
            "35f4a7829689466ca5c633b6b45d6ed6",
            "54a05a06ea9e4005bb85e6d7f49a613f"
          ]
        },
        "id": "oTQ1XxrdUnFG",
        "outputId": "2d96ff56-50c2-4882-d873-3920f2db923f"
      },
      "outputs": [
        {
          "data": {
            "application/vnd.jupyter.widget-view+json": {
              "model_id": "a4091b5354de46738f0a53cbd62f5d1b",
              "version_major": 2,
              "version_minor": 0
            },
            "text/plain": [
              "Map:   0%|          | 0/135000 [00:00<?, ? examples/s]"
            ]
          },
          "metadata": {},
          "output_type": "display_data"
        },
        {
          "data": {
            "application/vnd.jupyter.widget-view+json": {
              "model_id": "76bcb793dd024d019c2daa42cb00dc98",
              "version_major": 2,
              "version_minor": 0
            },
            "text/plain": [
              "Map:   0%|          | 0/15000 [00:00<?, ? examples/s]"
            ]
          },
          "metadata": {},
          "output_type": "display_data"
        },
        {
          "data": {
            "application/vnd.jupyter.widget-view+json": {
              "model_id": "acf84fa8ebe44e72ac71ea4fdc1c269e",
              "version_major": 2,
              "version_minor": 0
            },
            "text/plain": [
              "Map:   0%|          | 0/50000 [00:00<?, ? examples/s]"
            ]
          },
          "metadata": {},
          "output_type": "display_data"
        }
      ],
      "source": [
        "def tokenize_fn(batch):\n",
        "    return Tokenizer(batch[\"document\"], truncation=True)    # Set truncation to True to ensure sequences longer than the model's maximum length are cut down to fit.\n",
        "\n",
        "\n",
        "tok_dataset=nsmc.map(tokenize_fn, batched=True,remove_columns=[\"document\", \"id\"], )"
      ]
    },
    {
      "cell_type": "code",
      "execution_count": null,
      "metadata": {
        "colab": {
          "base_uri": "https://localhost:8080/",
          "height": 155,
          "referenced_widgets": [
            "c42d2dada168464cbff5c3ec7bd160d3",
            "de9843a9770b4178a60a7c87fd8cae44",
            "e60cb36a5f3440d795aaf29633b73f54",
            "8f66c063aa1443a7b48991206d80efb6",
            "f11535046ecd4f55914cfe7756f88663",
            "925bdbebf89d4104832e4e5051881760",
            "f1fc44c6d1924a26ac285cf20585d351",
            "7d0c44bc80d1472b8909531619a09249",
            "b4d88c85190a47a59b509c24693e2580",
            "edcd94e691c047ddbd784eb0698399de",
            "956eef60064849828b88200da95b2608",
            "9a4038961e5b461d9f8d746e7e6137d5",
            "7aa1842016d54ca3b8fc3c36d171a64b",
            "635afe3ea8d041ba9c644449b9669d4b",
            "450845c34d0e4c4984c16c39dcae6b18",
            "ea870196ad5e4f299ddadb9631333dc2",
            "85601390767d43728a5d17fbcdf4a901",
            "afdde72b4f154ab5ad08613c57716aa5",
            "4bde8cfcc6584aeda8c90770b55bae70",
            "e795b8a034784749800efb89272f283e",
            "f19c2e4d22704f56a0e1a2270b81c161",
            "9493ac2fd4a14ebcb2a3d3a7b52c17a0"
          ]
        },
        "id": "8ZeTOQcJZitv",
        "outputId": "b474b420-c6fd-4416-8c41-96ea33f79297"
      },
      "outputs": [
        {
          "data": {
            "application/vnd.jupyter.widget-view+json": {
              "model_id": "c42d2dada168464cbff5c3ec7bd160d3",
              "version_major": 2,
              "version_minor": 0
            },
            "text/plain": [
              "config.json:   0%|          | 0.00/546 [00:00<?, ?B/s]"
            ]
          },
          "metadata": {},
          "output_type": "display_data"
        },
        {
          "data": {
            "application/vnd.jupyter.widget-view+json": {
              "model_id": "9a4038961e5b461d9f8d746e7e6137d5",
              "version_major": 2,
              "version_minor": 0
            },
            "text/plain": [
              "model.safetensors:   0%|          | 0.00/443M [00:00<?, ?B/s]"
            ]
          },
          "metadata": {},
          "output_type": "display_data"
        },
        {
          "name": "stderr",
          "output_type": "stream",
          "text": [
            "Some weights of RobertaForSequenceClassification were not initialized from the model checkpoint at klue/roberta-base and are newly initialized: ['classifier.dense.bias', 'classifier.dense.weight', 'classifier.out_proj.bias', 'classifier.out_proj.weight']\n",
            "You should probably TRAIN this model on a down-stream task to be able to use it for predictions and inference.\n"
          ]
        },
        {
          "name": "stdout",
          "output_type": "stream",
          "text": [
            "trainable params: 1,181,954 || all params: 111,801,604 || trainable%: 1.0572\n"
          ]
        }
      ],
      "source": [
        "# Step3: Now we go for LORA. You can see: https://huggingface.co/docs/peft/en/task_guides/lora_based_methods\n",
        "from peft import LoraConfig, get_peft_model\n",
        "from transformers import AutoModelForSequenceClassification\n",
        "checkpoint = \"klue/roberta-base\"\n",
        "model = AutoModelForSequenceClassification.from_pretrained(checkpoint,num_labels=2)\n",
        "\n",
        "#for name, _ in model.named_modules(): # To check for target_modules in Config target_modules=[\"query\", \"value\"] for different model the name of \"query\" and \"value\" are different.\n",
        "#    print(name)\n",
        "\n",
        "config = LoraConfig(\n",
        "    r=16,\n",
        "    lora_alpha=16,\n",
        "    target_modules=[\"query\", \"value\"],\n",
        "    lora_dropout=0.1,\n",
        "    bias=\"none\",\n",
        "    modules_to_save=[\"classifier\"],\n",
        ")\n",
        "model = get_peft_model(model, config)\n",
        "model.print_trainable_parameters()"
      ]
    },
    {
      "cell_type": "code",
      "execution_count": null,
      "metadata": {
        "id": "vN50TR5ywO0F"
      },
      "outputs": [],
      "source": [
        "from sklearn.metrics import accuracy_score, precision_recall_fscore_support\n",
        "\n",
        "def compute_metrics(eval_pred): #eval_pred is a tuple (logits, labels) that the Trainer gives you after running evaluation.\n",
        "    logits, labels = eval_pred\n",
        "    preds = logits.argmax(axis=-1)\n",
        "\n",
        "    acc = accuracy_score(labels, preds)\n",
        "    precision, recall, f1, _ = precision_recall_fscore_support(\n",
        "        labels, preds, average=\"binary\"\n",
        "    )\n",
        "\n",
        "    return {\n",
        "        \"accuracy\": acc,\n",
        "        \"precision\": precision,\n",
        "        \"recall\": recall,\n",
        "        \"f1\": f1\n",
        "    }"
      ]
    },
    {
      "cell_type": "code",
      "execution_count": null,
      "metadata": {
        "colab": {
          "base_uri": "https://localhost:8080/"
        },
        "collapsed": true,
        "id": "UHtwYcBW02Mg",
        "outputId": "3643193b-ca45-48f0-86db-befd01cbefb2"
      },
      "outputs": [],
      "source": [
        "# Step 4: Before starting training, set up MLflow so we can log metrics and save the model during training.\n",
        "!pip install mlflow\n",
        "import mlflow\n",
        "#mlflow.end_run()\n",
        "#mlflow.set_experiment(\"model-LORAv4\") #with which name your colloborate should know it\n",
        "#print(mlflow.get_tracking_uri())\n",
        "#mlflow.set_tracking_uri(\"file:///content/mlruns4\")  #for local tracking server with UI: \"http://127.0.0.0:5000/\". if this is in a server that yuor colloborator use you can find this by print the prevoius cell."
      ]
    },
    {
      "cell_type": "code",
      "execution_count": null,
      "metadata": {
        "colab": {
          "base_uri": "https://localhost:8080/"
        },
        "id": "zi4HUoY0Gi86",
        "outputId": "ceee8de5-3e2f-4e4a-ae08-46f96f56954b"
      },
      "outputs": [],
      "source": [
        "import os, mlflow\n",
        "mlflow.end_run()  # close any stray run\n",
        "\n",
        "mlflow.set_tracking_uri(\"file:///content/mlruns4\")\n",
        "mlflow.set_experiment(\"model-LORAv4\")\n",
        "\n",
        "print(\"Tracking URI:\", mlflow.get_tracking_uri())\n",
        "print(\"Experiment:\", mlflow.get_experiment_by_name(\"model-LORAv4\").experiment_id)\n"
      ]
    },
    {
      "cell_type": "code",
      "execution_count": null,
      "metadata": {
        "colab": {
          "base_uri": "https://localhost:8080/",
          "height": 268
        },
        "id": "m9FWAZfFpob7",
        "outputId": "0eaf33b6-e130-4f90-dfbc-3ac5375cf6c0"
      },
      "outputs": [
        {
          "data": {
            "text/html": [
              "\n",
              "    <div>\n",
              "      \n",
              "      <progress value='42190' max='42190' style='width:300px; height:20px; vertical-align: middle;'></progress>\n",
              "      [42190/42190 1:28:57, Epoch 5/5]\n",
              "    </div>\n",
              "    <table border=\"1\" class=\"dataframe\">\n",
              "  <thead>\n",
              " <tr style=\"text-align: left;\">\n",
              "      <th>Epoch</th>\n",
              "      <th>Training Loss</th>\n",
              "      <th>Validation Loss</th>\n",
              "    </tr>\n",
              "  </thead>\n",
              "  <tbody>\n",
              "    <tr>\n",
              "      <td>1</td>\n",
              "      <td>0.281800</td>\n",
              "      <td>No log</td>\n",
              "    </tr>\n",
              "    <tr>\n",
              "      <td>2</td>\n",
              "      <td>0.266100</td>\n",
              "      <td>No log</td>\n",
              "    </tr>\n",
              "    <tr>\n",
              "      <td>3</td>\n",
              "      <td>0.235900</td>\n",
              "      <td>No log</td>\n",
              "    </tr>\n",
              "    <tr>\n",
              "      <td>4</td>\n",
              "      <td>0.220900</td>\n",
              "      <td>No log</td>\n",
              "    </tr>\n",
              "    <tr>\n",
              "      <td>5</td>\n",
              "      <td>0.198300</td>\n",
              "      <td>No log</td>\n",
              "    </tr>\n",
              "  </tbody>\n",
              "</table><p>"
            ],
            "text/plain": [
              "<IPython.core.display.HTML object>"
            ]
          },
          "metadata": {},
          "output_type": "display_data"
        },
        {
          "data": {
            "text/plain": [
              "TrainOutput(global_step=42190, training_loss=0.2463888278191732, metrics={'train_runtime': 5338.4021, 'train_samples_per_second': 126.442, 'train_steps_per_second': 7.903, 'total_flos': 2.219628684819533e+16, 'train_loss': 0.2463888278191732, 'epoch': 5.0})"
            ]
          },
          "execution_count": 13,
          "metadata": {},
          "output_type": "execute_result"
        }
      ],
      "source": [
        "from transformers import TrainingArguments, Trainer\n",
        "from datetime import datetime\n",
        "\n",
        "batch_size = 16\n",
        "peft_model_id = f\"./lora-sst2-run1-{datetime.now().strftime('%Y%m%d-%H%M%S')}\"   #output directory where checkpoints and logs will be saved.\n",
        "args = TrainingArguments(\n",
        "    peft_model_id,\n",
        "    remove_unused_columns=True,\n",
        "    eval_strategy=\"epoch\",\n",
        "    save_strategy=\"epoch\",\n",
        "    learning_rate=5e-4,\n",
        "    num_train_epochs=5,\n",
        "    per_device_train_batch_size=batch_size,\n",
        "    per_device_eval_batch_size=batch_size,\n",
        "    label_names=[\"label\"],\n",
        "    report_to=[\"mlflow\"]\n",
        "\n",
        ")\n",
        "\n",
        "\n",
        "trainer = Trainer(\n",
        "    model,\n",
        "    args,\n",
        "    train_dataset=tok_dataset['train'],\n",
        "    eval_dataset=tok_dataset['validation'],\n",
        "    processing_class=Tokenizer,\n",
        "    compute_metrics=compute_metrics,\n",
        ")\n",
        "trainer.train()"
      ]
    },
    {
      "cell_type": "code",
      "execution_count": null,
      "metadata": {
        "colab": {
          "base_uri": "https://localhost:8080/",
          "height": 55
        },
        "id": "3Y86n9lxXVpZ",
        "outputId": "0732858d-1da1-4568-cc91-d31496729a37"
      },
      "outputs": [
        {
          "data": {
            "text/html": [
              "\n",
              "    <div>\n",
              "      \n",
              "      <progress value='938' max='938' style='width:300px; height:20px; vertical-align: middle;'></progress>\n",
              "      [938/938 00:59]\n",
              "    </div>\n",
              "    "
            ],
            "text/plain": [
              "<IPython.core.display.HTML object>"
            ]
          },
          "metadata": {},
          "output_type": "display_data"
        },
        {
          "name": "stdout",
          "output_type": "stream",
          "text": [
            "Eval metrics: {'eval_runtime': 59.133, 'eval_samples_per_second': 253.665, 'eval_steps_per_second': 15.863, 'epoch': 5.0}\n"
          ]
        }
      ],
      "source": [
        "# Eval metrics on validation set\n",
        "eval_metrics = trainer.evaluate()\n",
        "print(\"Eval metrics:\", eval_metrics)\n",
        "\n"
      ]
    },
    {
      "cell_type": "code",
      "execution_count": null,
      "metadata": {
        "colab": {
          "base_uri": "https://localhost:8080/",
          "height": 17
        },
        "id": "jWYzvUz7gQ3n",
        "outputId": "716da838-827f-4941-9f81-3abb2e961441"
      },
      "outputs": [
        {
          "data": {
            "text/html": [],
            "text/plain": [
              "<IPython.core.display.HTML object>"
            ]
          },
          "metadata": {},
          "output_type": "display_data"
        }
      ],
      "source": [
        "no_label_val = tok_dataset[\"validation\"].remove_columns(\"label\")\n",
        "pred = trainer.predict(no_label_val)"
      ]
    },
    {
      "cell_type": "code",
      "execution_count": null,
      "metadata": {
        "colab": {
          "base_uri": "https://localhost:8080/"
        },
        "id": "wdJ2QVG9cDNs",
        "outputId": "e51c76f4-01f2-43d6-faac-b7d0e4001f86"
      },
      "outputs": [
        {
          "data": {
            "text/plain": [
              "PredictionOutput(predictions=array([[-0.6480095 ,  0.27015758],\n",
              "       [-3.1751459 ,  2.4863315 ],\n",
              "       [-2.6377656 ,  2.242806  ],\n",
              "       ...,\n",
              "       [-1.7124611 ,  1.4084432 ],\n",
              "       [ 2.2275481 , -1.5385627 ],\n",
              "       [ 3.0416362 , -2.6694336 ]], dtype=float32), label_ids=None, metrics={'test_runtime': 51.7536, 'test_samples_per_second': 289.835, 'test_steps_per_second': 18.124})"
            ]
          },
          "execution_count": 16,
          "metadata": {},
          "output_type": "execute_result"
        }
      ],
      "source": [
        "pred"
      ]
    },
    {
      "cell_type": "code",
      "execution_count": null,
      "metadata": {
        "id": "8g9qGUk6diO7"
      },
      "outputs": [],
      "source": [
        "import numpy as np\n",
        "import matplotlib.pyplot as plt\n",
        "\n",
        "# 1. Predicted classes\n",
        "y_pred = np.argmax(pred.predictions, axis=-1)\n",
        "\n",
        "# 2. True labels from original dataset\n",
        "# Make sure to use the same validation split you predicted on\n",
        "y_true = np.array(tok_dataset[\"validation\"][\"label\"])"
      ]
    },
    {
      "cell_type": "code",
      "execution_count": null,
      "metadata": {
        "colab": {
          "base_uri": "https://localhost:8080/",
          "height": 467
        },
        "id": "B1BHSp8guA0W",
        "outputId": "6e1b2e02-c2b0-4132-d862-f52903ac2138"
      },
      "outputs": [
        {
          "data": {
            "text/plain": [
              "<sklearn.metrics._plot.confusion_matrix.ConfusionMatrixDisplay at 0x7e4efc8bbbf0>"
            ]
          },
          "execution_count": 18,
          "metadata": {},
          "output_type": "execute_result"
        },
        {
          "data": {
            "image/png": "[encoded data removed]",
            "text/plain": [
              "<Figure size 640x480 with 2 Axes>"
            ]
          },
          "metadata": {},
          "output_type": "display_data"
        }
      ],
      "source": [
        "from sklearn.metrics import confusion_matrix, ConfusionMatrixDisplay\n",
        "import numpy as np\n",
        "# Compute confusion matrix\n",
        "cm = confusion_matrix(y_true, y_pred)\n",
        "\n",
        "# Display\n",
        "disp = ConfusionMatrixDisplay(confusion_matrix=cm, display_labels=[0, 1])\n",
        "disp.plot(values_format=\"d\")"
      ]
    }
  ],
  "metadata": {
    "accelerator": "GPU",
    "colab": {
      "gpuType": "T4",
      "provenance": []
    },
    "kernelspec": {
      "display_name": "Python 3",
      "name": "python3"
    },
    "language_info": {
      "name": "python"
    }
  },
  "nbformat": 4,
  "nbformat_minor": 0
}
