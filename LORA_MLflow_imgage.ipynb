{
  "cells": [
    {
      "cell_type": "code",
      "execution_count": null,
      "metadata": {
        "colab": {
          "base_uri": "https://localhost:8080/"
        },
        "id": "3dEx5mCMOfg9",
        "outputId": "eb1bc467-679c-4597-9950-f7f165516ea9"
      },
      "outputs": [
        {
          "output_type": "execute_result",
          "data": {
            "text/plain": [
              "Dataset({\n",
              "    features: ['image', 'label'],\n",
              "    num_rows: 100000\n",
              "})"
            ]
          },
          "metadata": {},
          "execution_count": 12
        }
      ],
      "source": [
        "# Note, i ran this code in google colab.\n",
        "# Step1: load dataset (pip install datasets)\n",
        "from datasets import load_dataset\n",
        "\n",
        "data = load_dataset(\"zh-plus/tiny-imagenet\")\n",
        "data['train']"
      ]
    },
    {
      "cell_type": "code",
      "source": [
        "print(data[\"train\"][0])\n",
        "print(data[\"train\"].features)\n",
        "label_names = data[\"train\"].features[\"label\"].names\n",
        "print(\"Number of labels:\", len(label_names))"
      ],
      "metadata": {
        "colab": {
          "base_uri": "https://localhost:8080/"
        },
        "id": "lXvJxOkKmDw9",
        "outputId": "84b67939-b9c2-40cf-b462-c9db40a34deb"
      },
      "execution_count": null,
      "outputs": [
        {
          "output_type": "stream",
          "name": "stdout",
          "text": [
            "{'image': <PIL.JpegImagePlugin.JpegImageFile image mode=RGB size=64x64 at 0x7FBD20C01090>, 'label': 0}\n",
            "{'image': Image(mode=None, decode=True), 'label': ClassLabel(names=['n01443537', 'n01629819', 'n01641577', 'n01644900', 'n01698640', 'n01742172', 'n01768244', 'n01770393', 'n01774384', 'n01774750', 'n01784675', 'n01882714', 'n01910747', 'n01917289', 'n01944390', 'n01950731', 'n01983481', 'n01984695', 'n02002724', 'n02056570', 'n02058221', 'n02074367', 'n02094433', 'n02099601', 'n02099712', 'n02106662', 'n02113799', 'n02123045', 'n02123394', 'n02124075', 'n02125311', 'n02129165', 'n02132136', 'n02165456', 'n02226429', 'n02231487', 'n02233338', 'n02236044', 'n02268443', 'n02279972', 'n02281406', 'n02321529', 'n02364673', 'n02395406', 'n02403003', 'n02410509', 'n02415577', 'n02423022', 'n02437312', 'n02480495', 'n02481823', 'n02486410', 'n02504458', 'n02509815', 'n02666347', 'n02669723', 'n02699494', 'n02769748', 'n02788148', 'n02791270', 'n02793495', 'n02795169', 'n02802426', 'n02808440', 'n02814533', 'n02814860', 'n02815834', 'n02823428', 'n02837789', 'n02841315', 'n02843684', 'n02883205', 'n02892201', 'n02909870', 'n02917067', 'n02927161', 'n02948072', 'n02950826', 'n02963159', 'n02977058', 'n02988304', 'n03014705', 'n03026506', 'n03042490', 'n03085013', 'n03089624', 'n03100240', 'n03126707', 'n03160309', 'n03179701', 'n03201208', 'n03255030', 'n03355925', 'n03373237', 'n03388043', 'n03393912', 'n03400231', 'n03404251', 'n03424325', 'n03444034', 'n03447447', 'n03544143', 'n03584254', 'n03599486', 'n03617480', 'n03637318', 'n03649909', 'n03662601', 'n03670208', 'n03706229', 'n03733131', 'n03763968', 'n03770439', 'n03796401', 'n03814639', 'n03837869', 'n03838899', 'n03854065', 'n03891332', 'n03902125', 'n03930313', 'n03937543', 'n03970156', 'n03977966', 'n03980874', 'n03983396', 'n03992509', 'n04008634', 'n04023962', 'n04070727', 'n04074963', 'n04099969', 'n04118538', 'n04133789', 'n04146614', 'n04149813', 'n04179913', 'n04251144', 'n04254777', 'n04259630', 'n04265275', 'n04275548', 'n04285008', 'n04311004', 'n04328186', 'n04356056', 'n04366367', 'n04371430', 'n04376876', 'n04398044', 'n04399382', 'n04417672', 'n04456115', 'n04465666', 'n04486054', 'n04487081', 'n04501370', 'n04507155', 'n04532106', 'n04532670', 'n04540053', 'n04560804', 'n04562935', 'n04596742', 'n04598010', 'n06596364', 'n07056680', 'n07583066', 'n07614500', 'n07615774', 'n07646821', 'n07647870', 'n07657664', 'n07695742', 'n07711569', 'n07715103', 'n07720875', 'n07749582', 'n07753592', 'n07768694', 'n07871810', 'n07873807', 'n07875152', 'n07920052', 'n07975909', 'n08496334', 'n08620881', 'n08742578', 'n09193705', 'n09246464', 'n09256479', 'n09332890', 'n09428293', 'n12267677', 'n12520864', 'n13001041', 'n13652335', 'n13652994', 'n13719102', 'n14991210'])}\n",
            "Number of labels: 200\n"
          ]
        }
      ]
    },
    {
      "cell_type": "code",
      "source": [
        "label_names = data[\"train\"].features[\"label\"].names"
      ],
      "metadata": {
        "id": "aeI4Zl4phNJr"
      },
      "execution_count": null,
      "outputs": []
    },
    {
      "cell_type": "code",
      "source": [
        "label2id, id2label = {}, {}\n",
        "for i, label in enumerate(label_names): # each class corresponding to a number and regarding that number we could recover the number.\n",
        "    label2id[label] = i\n",
        "    id2label[i] = label"
      ],
      "metadata": {
        "id": "f2TpgmFPisk-"
      },
      "execution_count": null,
      "outputs": []
    },
    {
      "cell_type": "code",
      "source": [
        "from transformers import AutoImageProcessor\n",
        "\n",
        "image_processor = AutoImageProcessor.from_pretrained(\"google/vit-base-patch16-224-in21k\")"
      ],
      "metadata": {
        "colab": {
          "base_uri": "https://localhost:8080/",
          "height": 119,
          "referenced_widgets": [
            "dc9119f3fb894798a216e92ec8280ff5",
            "d4c65a6087ec40d1a0cfda28c5f31072",
            "8b913e33a8da44099bfdf63d48eec268",
            "9f36e48ca70d4f4d8dd7db0ffb9a5624",
            "6c7e52037a334ef28b004ae915cbe0c8",
            "3ab19eb1240441358b361e2ce3765af1",
            "3011096823a244779d026886ed75ab95",
            "7b717a0f50754d94961c0a6b53d46acf",
            "a0097355bbd54c51847fdae3966841ad",
            "7e5f2a1dd1de41b697ee7a86f7bd0713",
            "6ecc0ec5fc484a1d9f68999cf3200713",
            "8a43e2abf4ef46ab97d1ddf29523dc14",
            "f1c0021cdd8e4bf4b8ad2ef1c3386007",
            "3516df733f13448491816f8d78a78a0f",
            "8b2878f558d74e90bb8a9c66ab1e07f7",
            "4ad02db96f3e4db098e8db6fae4c93f0",
            "c76d3f76d3f24ca3bc0d85edbf3df7d3",
            "1980ea9050c942f180d2d6062718051b",
            "4aa13541665b479d970ae5bddfa28649",
            "bc4fa25f98f745c8bdd198422abecd82",
            "9bdb69727caa469689910d4b89a8635b",
            "a868095ea944469a9a1270f4f1fd4969"
          ]
        },
        "id": "qLSHGDAPsaOp",
        "outputId": "18b7f40a-ca41-439b-d3fd-99d5ecba39a6"
      },
      "execution_count": null,
      "outputs": [
        {
          "output_type": "display_data",
          "data": {
            "text/plain": [
              "preprocessor_config.json:   0%|          | 0.00/160 [00:00<?, ?B/s]"
            ],
            "application/vnd.jupyter.widget-view+json": {
              "version_major": 2,
              "version_minor": 0,
              "model_id": "dc9119f3fb894798a216e92ec8280ff5"
            }
          },
          "metadata": {}
        },
        {
          "output_type": "display_data",
          "data": {
            "text/plain": [
              "config.json:   0%|          | 0.00/502 [00:00<?, ?B/s]"
            ],
            "application/vnd.jupyter.widget-view+json": {
              "version_major": 2,
              "version_minor": 0,
              "model_id": "8a43e2abf4ef46ab97d1ddf29523dc14"
            }
          },
          "metadata": {}
        },
        {
          "output_type": "stream",
          "name": "stderr",
          "text": [
            "Fast image processor class <class 'transformers.models.vit.image_processing_vit_fast.ViTImageProcessorFast'> is available for this model. Using slow image processor class. To use the fast image processor class set `use_fast=True`.\n"
          ]
        }
      ]
    },
    {
      "cell_type": "code",
      "source": [
        "from torchvision.transforms import Compose, Resize, ToTensor, Normalize\n",
        "\n",
        "IMG_SIZE = 224\n",
        "normalize = Normalize(mean=image_processor.image_mean, std=image_processor.image_std)\n",
        "\n",
        "train_transforms = Compose([\n",
        "    Resize((IMG_SIZE, IMG_SIZE)),   # no crop, just resize to 224x224 (I dont want the augmentation)\n",
        "    ToTensor(),\n",
        "    normalize,\n",
        "])\n",
        "\n",
        "val_transforms = Compose([\n",
        "    Resize((IMG_SIZE, IMG_SIZE)),   # same as train\n",
        "    ToTensor(),\n",
        "    normalize,\n",
        "])\n",
        "\n",
        "def preprocess_train(example_batch):\n",
        "    example_batch[\"pixel_values\"] = [train_transforms(image.convert(\"RGB\")) for image in example_batch[\"image\"]]\n",
        "    return example_batch\n",
        "\n",
        "def preprocess_val(example_batch):\n",
        "    example_batch[\"pixel_values\"] = [val_transforms(image.convert(\"RGB\")) for image in example_batch[\"image\"]]\n",
        "    return example_batch"
      ],
      "metadata": {
        "id": "eq980WfGq5d8"
      },
      "execution_count": null,
      "outputs": []
    },
    {
      "cell_type": "code",
      "source": [
        "train_ds = data['train']\n",
        "val_ds = data['valid']\n",
        "\n",
        "train_ds.set_transform(preprocess_train)# The .set_transform() method in Hugging Face's datasets library is used to apply a transformation function to a dataset.\n",
        "val_ds.set_transform(preprocess_val)"
      ],
      "metadata": {
        "id": "08OxwT94rKRo"
      },
      "execution_count": null,
      "outputs": []
    },
    {
      "cell_type": "code",
      "source": [
        "import torch\n",
        "\n",
        "def collate_fn(examples):\n",
        "    pixel_values = torch.stack([example[\"pixel_values\"] for example in examples])\n",
        "    labels = torch.tensor([example[\"label\"] for example in examples])\n",
        "    return {\"pixel_values\": pixel_values, \"labels\": labels}"
      ],
      "metadata": {
        "id": "6z5J-02QnfNW"
      },
      "execution_count": null,
      "outputs": []
    },
    {
      "cell_type": "code",
      "source": [
        "image_processor"
      ],
      "metadata": {
        "colab": {
          "base_uri": "https://localhost:8080/"
        },
        "id": "3xPnVWULm9oq",
        "outputId": "7b79effd-2ce2-4ec9-9bee-34907884fc07"
      },
      "execution_count": null,
      "outputs": [
        {
          "output_type": "execute_result",
          "data": {
            "text/plain": [
              "ViTImageProcessor {\n",
              "  \"do_convert_rgb\": null,\n",
              "  \"do_normalize\": true,\n",
              "  \"do_rescale\": true,\n",
              "  \"do_resize\": true,\n",
              "  \"image_mean\": [\n",
              "    0.5,\n",
              "    0.5,\n",
              "    0.5\n",
              "  ],\n",
              "  \"image_processor_type\": \"ViTImageProcessor\",\n",
              "  \"image_std\": [\n",
              "    0.5,\n",
              "    0.5,\n",
              "    0.5\n",
              "  ],\n",
              "  \"resample\": 2,\n",
              "  \"rescale_factor\": 0.00392156862745098,\n",
              "  \"size\": {\n",
              "    \"height\": 224,\n",
              "    \"width\": 224\n",
              "  }\n",
              "}"
            ]
          },
          "metadata": {},
          "execution_count": 20
        }
      ]
    },
    {
      "cell_type": "code",
      "source": [
        "from transformers import AutoImageProcessor, AutoModelForImageClassification\n",
        "\n",
        "checkpoint = \"google/vit-base-patch16-224-in21k\"\n",
        "processor = AutoImageProcessor.from_pretrained(checkpoint)\n",
        "model = AutoModelForImageClassification.from_pretrained(\n",
        "    checkpoint,\n",
        "    label2id=label2id,\n",
        "    id2label=id2label,\n",
        ")"
      ],
      "metadata": {
        "colab": {
          "base_uri": "https://localhost:8080/",
          "height": 123,
          "referenced_widgets": [
            "b74f75430ce34a84be8edc3ed4637601",
            "ce8d22eb0ca648e7a46e23b35ec5bfa9",
            "9a01f59ff39141789482edf9fb8662c3",
            "02dc93c813d1408290b9b0bc5856c0e5",
            "1af99e09fa55413f84b2734f4f682a2b",
            "91fcd5a91cc443e2a21d1a56369d6790",
            "41332bb562384612925237297fe2095e",
            "3db821ff1da24b52b5880e27ecf81b71",
            "b5cb56bdf3d342c684313bbdb542b462",
            "9ae5c3d410314fa0ae400a923a31eff7",
            "555ad9299a034d8091a3bcdf6eb7ee45"
          ]
        },
        "id": "KfcGxGxsm98x",
        "outputId": "8793e4a6-7d14-41db-d5c4-f0ec2a2bc48f"
      },
      "execution_count": null,
      "outputs": [
        {
          "output_type": "stream",
          "name": "stderr",
          "text": [
            "Fast image processor class <class 'transformers.models.vit.image_processing_vit_fast.ViTImageProcessorFast'> is available for this model. Using slow image processor class. To use the fast image processor class set `use_fast=True`.\n"
          ]
        },
        {
          "output_type": "display_data",
          "data": {
            "text/plain": [
              "model.safetensors:   0%|          | 0.00/346M [00:00<?, ?B/s]"
            ],
            "application/vnd.jupyter.widget-view+json": {
              "version_major": 2,
              "version_minor": 0,
              "model_id": "b74f75430ce34a84be8edc3ed4637601"
            }
          },
          "metadata": {}
        },
        {
          "output_type": "stream",
          "name": "stderr",
          "text": [
            "Some weights of ViTForImageClassification were not initialized from the model checkpoint at google/vit-base-patch16-224-in21k and are newly initialized: ['classifier.bias', 'classifier.weight']\n",
            "You should probably TRAIN this model on a down-stream task to be able to use it for predictions and inference.\n"
          ]
        }
      ]
    },
    {
      "cell_type": "code",
      "source": [
        "from peft import LoraConfig, get_peft_model\n",
        "\n",
        "config = LoraConfig(\n",
        "    r=16,\n",
        "    lora_alpha=16,\n",
        "    target_modules=[\"query\", \"value\"],\n",
        "    lora_dropout=0.1,\n",
        "    bias=\"none\",\n",
        "    modules_to_save=[\"classifier\"],\n",
        ")\n",
        "model = get_peft_model(model, config)\n",
        "model.print_trainable_parameters()"
      ],
      "metadata": {
        "colab": {
          "base_uri": "https://localhost:8080/"
        },
        "id": "vS39wz5wEGFn",
        "outputId": "949f0239-3c66-4bc9-9c2c-d2fac3895c03"
      },
      "execution_count": null,
      "outputs": [
        {
          "output_type": "stream",
          "name": "stdout",
          "text": [
            "trainable params: 743,624 || all params: 86,696,080 || trainable%: 0.8577\n"
          ]
        }
      ]
    },
    {
      "cell_type": "code",
      "source": [
        "from transformers import TrainingArguments, Trainer\n",
        "from datetime import datetime\n",
        "\n",
        "peft_model_id = f\"./imagenet-{datetime.now().strftime('%Y%m%d-%H%M%S')}\"   #output directory where checkpoints and logs will be saved.\n",
        "\n",
        "batch_size = 16\n",
        "\n",
        "args = TrainingArguments(\n",
        "    peft_model_id,\n",
        "    remove_unused_columns=False,\n",
        "    eval_strategy=\"epoch\",\n",
        "    save_strategy=\"epoch\",\n",
        "    learning_rate=5e-4,\n",
        "    per_device_train_batch_size=batch_size,\n",
        "    gradient_accumulation_steps=4,\n",
        "    per_device_eval_batch_size=batch_size,\n",
        "    fp16=True,\n",
        "    num_train_epochs=1,\n",
        "    logging_steps=10,\n",
        "    load_best_model_at_end=True,\n",
        "    label_names=[\"labels\"],\n",
        "    report_to=[]\n",
        ")"
      ],
      "metadata": {
        "id": "PX1UT65pEGC-"
      },
      "execution_count": null,
      "outputs": []
    },
    {
      "cell_type": "code",
      "source": [
        "trainer = Trainer(\n",
        "    model,\n",
        "    args,\n",
        "    train_dataset=train_ds,\n",
        "    eval_dataset=val_ds,\n",
        "    processing_class=image_processor,\n",
        "    data_collator=collate_fn,\n",
        "\n",
        ")\n",
        "trainer.train()"
      ],
      "metadata": {
        "colab": {
          "base_uri": "https://localhost:8080/",
          "height": 142
        },
        "id": "BMivhLJvEF_5",
        "outputId": "1298353c-de58-49ab-f321-019533e2351f"
      },
      "execution_count": null,
      "outputs": [
        {
          "output_type": "display_data",
          "data": {
            "text/plain": [
              "<IPython.core.display.HTML object>"
            ],
            "text/html": [
              "\n",
              "    <div>\n",
              "      \n",
              "      <progress value='1563' max='1563' style='width:300px; height:20px; vertical-align: middle;'></progress>\n",
              "      [1563/1563 15:11, Epoch 1/1]\n",
              "    </div>\n",
              "    <table border=\"1\" class=\"dataframe\">\n",
              "  <thead>\n",
              " <tr style=\"text-align: left;\">\n",
              "      <th>Epoch</th>\n",
              "      <th>Training Loss</th>\n",
              "      <th>Validation Loss</th>\n",
              "    </tr>\n",
              "  </thead>\n",
              "  <tbody>\n",
              "    <tr>\n",
              "      <td>1</td>\n",
              "      <td>0.463700</td>\n",
              "      <td>0.470107</td>\n",
              "    </tr>\n",
              "  </tbody>\n",
              "</table><p>"
            ]
          },
          "metadata": {}
        },
        {
          "output_type": "execute_result",
          "data": {
            "text/plain": [
              "TrainOutput(global_step=1563, training_loss=0.4572531124833144, metrics={'train_runtime': 912.28, 'train_samples_per_second': 109.615, 'train_steps_per_second': 1.713, 'total_flos': 7.830112518144e+18, 'train_loss': 0.4572531124833144, 'epoch': 1.0})"
            ]
          },
          "metadata": {},
          "execution_count": 28
        }
      ]
    },
    {
      "cell_type": "code",
      "source": [
        "# Eval metrics on validation set\n",
        "eval_metrics = trainer.evaluate()\n",
        "print(\"Eval metrics:\", eval_metrics)"
      ],
      "metadata": {
        "colab": {
          "base_uri": "https://localhost:8080/",
          "height": 55
        },
        "id": "-2Jf2IkT3rrf",
        "outputId": "572709e7-61d7-443e-f460-643c2fe8dce8"
      },
      "execution_count": null,
      "outputs": [
        {
          "output_type": "display_data",
          "data": {
            "text/plain": [
              "<IPython.core.display.HTML object>"
            ],
            "text/html": [
              "\n",
              "    <div>\n",
              "      \n",
              "      <progress value='625' max='625' style='width:300px; height:20px; vertical-align: middle;'></progress>\n",
              "      [625/625 00:46]\n",
              "    </div>\n",
              "    "
            ]
          },
          "metadata": {}
        },
        {
          "output_type": "stream",
          "name": "stdout",
          "text": [
            "Eval metrics: {'eval_loss': 0.4701066315174103, 'eval_runtime': 46.1745, 'eval_samples_per_second': 216.57, 'eval_steps_per_second': 13.536, 'epoch': 1.0}\n"
          ]
        }
      ]
    },
    {
      "cell_type": "code",
      "source": [
        "pred = trainer.predict(val_ds) # should i pick a test data that is not in validation"
      ],
      "metadata": {
        "colab": {
          "base_uri": "https://localhost:8080/",
          "height": 17
        },
        "id": "B9ZZq19L35lr",
        "outputId": "1e76af4b-f6e0-4f84-f8a6-77c9cc509290"
      },
      "execution_count": null,
      "outputs": [
        {
          "output_type": "display_data",
          "data": {
            "text/plain": [
              "<IPython.core.display.HTML object>"
            ],
            "text/html": []
          },
          "metadata": {}
        }
      ]
    },
    {
      "cell_type": "code",
      "source": [
        "pred"
      ],
      "metadata": {
        "colab": {
          "base_uri": "https://localhost:8080/"
        },
        "id": "8UbhpXBB4CbK",
        "outputId": "96286a22-dd1b-43f2-c839-043bbc0f56c0"
      },
      "execution_count": null,
      "outputs": [
        {
          "output_type": "execute_result",
          "data": {
            "text/plain": [
              "PredictionOutput(predictions=array([[ 1.21406250e+01, -3.63037109e-01, -1.93847656e-01, ...,\n",
              "         2.20825195e-01, -3.33251953e-01, -4.06494141e-01],\n",
              "       [ 1.17031250e+01, -9.24316406e-01,  7.84179688e-01, ...,\n",
              "         1.32324219e-01,  1.97265625e-01,  4.62402344e-01],\n",
              "       [ 1.28437500e+01, -9.14062500e-01,  1.05773926e-01, ...,\n",
              "         8.54492188e-02, -1.86004639e-02, -9.33837891e-03],\n",
              "       ...,\n",
              "       [-6.25976562e-01, -6.59179688e-01, -5.82519531e-01, ...,\n",
              "         1.82617188e-01, -1.82373047e-01,  1.13593750e+01],\n",
              "       [-6.47949219e-01, -1.35546875e+00, -5.04394531e-01, ...,\n",
              "         2.70263672e-01,  8.35449219e-01,  1.13906250e+01],\n",
              "       [-1.09277344e+00, -6.15234375e-01, -1.41894531e+00, ...,\n",
              "         2.53662109e-01, -1.38183594e-01,  1.06093750e+01]], dtype=float32), label_ids=array([  0,   0,   0, ..., 199, 199, 199]), metrics={'test_loss': 0.4701066315174103, 'test_runtime': 51.6204, 'test_samples_per_second': 193.722, 'test_steps_per_second': 12.108})"
            ]
          },
          "metadata": {},
          "execution_count": 31
        }
      ]
    },
    {
      "cell_type": "code",
      "source": [
        "# Convert logits -> predicted labels\n",
        "import numpy as np\n",
        "from sklearn.metrics import confusion_matrix, ConfusionMatrixDisplay\n",
        "import matplotlib.pyplot as plt\n",
        "y_pred = np.argmax(pred.predictions, axis=1)\n",
        "y_true = pred.label_ids\n",
        "\n",
        "# Compute confusion matrix\n",
        "cm = confusion_matrix(y_true, y_pred)\n",
        "\n",
        "# Display\n",
        "disp = ConfusionMatrixDisplay(confusion_matrix=cm, display_labels=label_names)\n",
        "disp.plot(xticks_rotation=90, cmap=\"Blues\")\n",
        "plt.show()"
      ],
      "metadata": {
        "id": "2kq6NR3R4Lf1"
      },
      "execution_count": null,
      "outputs": []
    },
    {
      "cell_type": "code",
      "source": [
        "# Select only the 4 classes you want\n",
        "selected_classes = [0, 1, 2, 3]  # change to the label IDs you want\n",
        "mask = np.isin(y_true, selected_classes)\n",
        "\n",
        "y_true_sub = y_true[mask]\n",
        "y_pred_sub = y_pred[mask]\n",
        "\n",
        "# Also filter predictions to only those classes\n",
        "mask_pred = np.isin(y_pred_sub, selected_classes)\n",
        "y_true_sub = y_true_sub[mask_pred]\n",
        "y_pred_sub = y_pred_sub[mask_pred]\n",
        "\n",
        "# Compute confusion matrix for selected classes\n",
        "cm = confusion_matrix(y_true_sub, y_pred_sub, labels=selected_classes)\n",
        "\n",
        "# Get class names\n",
        "class_names = [id2label[i] for i in selected_classes]\n",
        "\n",
        "# Plot\n",
        "fig, ax = plt.subplots(figsize=(6, 6))\n",
        "disp = ConfusionMatrixDisplay(confusion_matrix=cm,\n",
        "                              display_labels=class_names)\n",
        "disp.plot(ax=ax, cmap=\"Blues\", colorbar=False)\n",
        "plt.title(\"Confusion Matrix (4 Classes)\")\n",
        "plt.show()\n"
      ],
      "metadata": {
        "colab": {
          "base_uri": "https://localhost:8080/",
          "height": 564
        },
        "id": "4SVdSiR05DUj",
        "outputId": "85ac6e1d-9312-471a-e55e-a4feb379c942"
      },
      "execution_count": null,
      "outputs": [
        {
          "output_type": "display_data",
          "data": {
            "text/plain": [
              "<Figure size 600x600 with 1 Axes>"
            ],
            "image/png": "[encoded data removed]"
          },
          "metadata": {}
        }
      ]
    }
  ],
  "metadata": {
    "accelerator": "GPU",
    "colab": {
      "gpuType": "T4",
      "provenance": []
    },
    "kernelspec": {
      "display_name": "Python 3",
      "name": "python3"
    },
    "language_info": {
      "name": "python"
    }
  },
  "nbformat": 4,
  "nbformat_minor": 0
}